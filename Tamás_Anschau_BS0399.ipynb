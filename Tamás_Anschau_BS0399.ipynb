{
  "nbformat": 4,
  "nbformat_minor": 0,
  "metadata": {
    "colab": {
      "provenance": [],
      "include_colab_link": true
    },
    "kernelspec": {
      "name": "python3",
      "display_name": "Python 3"
    },
    "language_info": {
      "name": "python"
    }
  },
  "cells": [
    {
      "cell_type": "markdown",
      "metadata": {
        "id": "view-in-github",
        "colab_type": "text"
      },
      "source": [
        "<a href=\"https://colab.research.google.com/github/atoma96/github-assignment/blob/main/Tam%C3%A1s_Anschau_BS0399.ipynb\" target=\"_parent\"><img src=\"https://colab.research.google.com/assets/colab-badge.svg\" alt=\"Open In Colab\"/></a>"
      ]
    },
    {
      "cell_type": "markdown",
      "source": [
        "0. task:\n",
        "**File --> Save a copy in Drive** - so you have your own local copy and set the name to \"Name_NeptunCode.ipynb\"\n"
      ],
      "metadata": {
        "id": "CqgtM7zeeXqs"
      }
    },
    {
      "cell_type": "markdown",
      "source": [
        "##1. Related to GitHub: (10 points)\n",
        "\n",
        "\n",
        "*   Create a GitHub repository\n",
        "*   Clone it to the notebook\n",
        "\n",
        "*   Create a file,\n",
        "*   Write some lines in it\n",
        "\n",
        "*   Then push it to the repo!\n",
        "\n",
        "\n",
        "\n",
        "Invite me as a collaborator: teveszjudit@gmail.com\n",
        "\n",
        "I will write feedback/ask for correction for the homework if needed in that existing file in the repo (I will write to you if I made the changes) , you should check the changes that were made (pull the changes / clone the repo again - any solutions) and write to me / screenshot if it was successful.\n",
        "\n"
      ],
      "metadata": {
        "id": "ddZdQy2DHQfb"
      }
    },
    {
      "cell_type": "markdown",
      "source": [
        "###2. task:"
      ],
      "metadata": {
        "id": "wZvH-wR-fTW9"
      }
    },
    {
      "cell_type": "markdown",
      "source": [
        "Create a House class that represents a house; attributes:\n",
        "\n",
        "\n",
        "*   area\n",
        "*   number of rooms\n",
        "*   number of bathrooms\n",
        "*   number of floors\n",
        "*   has garage\n",
        "*   has garden\n",
        "*   any other attributes that you think is important\n",
        "\n",
        "\n",
        "\n",
        "instance methods:\n",
        "\n",
        "*   price calculation\n",
        "\n",
        "There should be at least 1 default parameter\n",
        "\n",
        "(4 points)"
      ],
      "metadata": {
        "id": "eVmZuB7cdkPK"
      }
    },
    {
      "cell_type": "code",
      "source": [
        "class House:\n",
        "    def __init__(self, area, rooms, bathrooms, floors, garage=False, garden=False, built=2020, neighbourhood=\"bad\"):\n",
        "        self.area = area\n",
        "        self.rooms = rooms\n",
        "        self.bathrooms = bathrooms\n",
        "        self.floors = floors\n",
        "        self.garage = garage\n",
        "        self.garden = garden\n",
        "        self.built = built\n",
        "        self.neighbourhood=neighbourhood\n",
        "\n",
        "    def Price(self):\n",
        "        base_price = 500\n",
        "        age = 2025 - self.built\n",
        "        price = self.area * base_price\n",
        "        price += self.rooms * 5000\n",
        "        price += self.bathrooms * 3000\n",
        "        price += self.floors * 15000\n",
        "        price -= age*500\n",
        "\n",
        "        if self.garage:\n",
        "            price += 10000\n",
        "        if self.garden:\n",
        "            price += 20000\n",
        "\n",
        "        if self.neighbourhood == \"bad\":\n",
        "          price *= 0.5\n",
        "        elif self.neighbourhood == \"good\":\n",
        "          price *= 1.5\n",
        "\n",
        "        return price\n"
      ],
      "metadata": {
        "id": "rfAUDGIsKGPA"
      },
      "execution_count": 55,
      "outputs": []
    },
    {
      "cell_type": "markdown",
      "source": [
        "Create a Person class with the following attributes:\n",
        "\n",
        "\n",
        "*   name\n",
        "*   age\n",
        "*   married (T/F)\n",
        "*   number of children\n",
        "*   number of cars\n",
        "*   total amount of money (to buy a house)\n",
        "*   based on the number of children store the number of family members in an attribute  (- this does not have to be included in the init arguments as it is a calculated value)\n",
        "\n",
        "\n",
        "(4 points)\n",
        "\n",
        "\n"
      ],
      "metadata": {
        "id": "UfPfkzQbdop6"
      }
    },
    {
      "cell_type": "code",
      "source": [
        "class Person:\n",
        "    def __init__(self, name, age, married, num_children, num_cars, total_money):\n",
        "        self.name = name\n",
        "        self.age = age\n",
        "        self.married = married\n",
        "        self.num_children = num_children\n",
        "        self.num_cars = num_cars\n",
        "        self.total_money = total_money\n",
        "        self.family_members = 1 + num_children + (1 if married else 0)\n",
        "\n",
        "    def info(self):\n",
        "        status = \"married\" if self.married else \"single\"\n",
        "        return (f\"{self.name}, {self.age} years old, {status}, \"\n",
        "                f\"{self.num_children} children, {self.num_cars} cars, \"\n",
        "                f\"Total Money: ${self.total_money:,.2f}, \"\n",
        "                f\"Family Members: {self.family_members}\")\n"
      ],
      "metadata": {
        "id": "px5ixHJWKJ3j"
      },
      "execution_count": 35,
      "outputs": []
    },
    {
      "cell_type": "markdown",
      "source": [
        "Create 3 House instances and 3 Person instances and with different arguments!\n",
        "\n",
        "(1 point)"
      ],
      "metadata": {
        "id": "Z6rbLkgB3E9N"
      }
    },
    {
      "cell_type": "code",
      "source": [
        "Luxurious_house = House(area=300, rooms=4, bathrooms=3, floors=2, garage=True, garden=True, built=2015, neighbourhood=\"good\")\n",
        "print(f\"Estimated price: ${Luxurious_house.Price():,.2f}\")"
      ],
      "metadata": {
        "id": "9P2oiqYPKSie",
        "colab": {
          "base_uri": "https://localhost:8080/"
        },
        "outputId": "c7d25f93-25ea-42a4-b6ac-6b79158eb775"
      },
      "execution_count": 29,
      "outputs": [
        {
          "output_type": "stream",
          "name": "stdout",
          "text": [
            "Estimated price: $306,000.00\n"
          ]
        }
      ]
    },
    {
      "cell_type": "code",
      "source": [
        "Abandoned_shack = House(area=30, rooms=1, bathrooms=1, floors=1, garage=False, garden=True, built=1945, neighbourhood=\"bad\")\n",
        "print(f\"Estimated price: ${Abandoned_shack.Price():,.2f}\")"
      ],
      "metadata": {
        "colab": {
          "base_uri": "https://localhost:8080/"
        },
        "id": "IXJP05yhY-4l",
        "outputId": "dbc4772c-0993-4678-b8f4-1ab74a3c055c"
      },
      "execution_count": 53,
      "outputs": [
        {
          "output_type": "stream",
          "name": "stdout",
          "text": [
            "Estimated price: $9,000.00\n"
          ]
        }
      ]
    },
    {
      "cell_type": "code",
      "source": [
        "Average_home = House(area=115, rooms=3, bathrooms=2, floors=1, garage=True, garden=True, built=2015, neighbourhood=\"average\")\n",
        "print(f\"Estimated price: ${Average_home.Price():,.2f}\")"
      ],
      "metadata": {
        "colab": {
          "base_uri": "https://localhost:8080/"
        },
        "id": "uzaVZwFxY-p1",
        "outputId": "eac1db73-1388-45f3-8d4e-c61291309ffb"
      },
      "execution_count": 34,
      "outputs": [
        {
          "output_type": "stream",
          "name": "stdout",
          "text": [
            "Estimated price: $107,000.00\n"
          ]
        }
      ]
    },
    {
      "cell_type": "code",
      "source": [
        "    Tomi = Person(\"Tomi\", 11, False, 0, 0, 500)\n",
        "    print(Tomi.info())"
      ],
      "metadata": {
        "colab": {
          "base_uri": "https://localhost:8080/"
        },
        "id": "4DV60494Y-fE",
        "outputId": "93423b66-06c4-4abf-b3fc-b47106d79bc5"
      },
      "execution_count": 38,
      "outputs": [
        {
          "output_type": "stream",
          "name": "stdout",
          "text": [
            "Tomi, 11 years old, single, 0 children, 0 cars, Total Money: $500.00, Family Members: 1\n"
          ]
        }
      ]
    },
    {
      "cell_type": "code",
      "source": [
        "    Peti = Person(\"Peti\", 30, True, 1, 1, 500000)\n",
        "    print(Peti.info())"
      ],
      "metadata": {
        "colab": {
          "base_uri": "https://localhost:8080/"
        },
        "id": "IDUjqtNMY-Ls",
        "outputId": "51bc3a74-3400-48d9-8548-5ca19ebcad41"
      },
      "execution_count": 41,
      "outputs": [
        {
          "output_type": "stream",
          "name": "stdout",
          "text": [
            "Peti, 30 years old, married, 1 children, 1 cars, Total Money: $50,000,000.00, Family Members: 3\n"
          ]
        }
      ]
    },
    {
      "cell_type": "code",
      "source": [
        "    Jani =  Person(\"Jani\", 60, False, 3, 2, 999999999)\n",
        "    print(Jani.info())"
      ],
      "metadata": {
        "colab": {
          "base_uri": "https://localhost:8080/"
        },
        "id": "f3mmZ120Y96u",
        "outputId": "53cc7304-19f1-47b4-9585-8c0c9b5362c7"
      },
      "execution_count": 42,
      "outputs": [
        {
          "output_type": "stream",
          "name": "stdout",
          "text": [
            "Jani, 60 years old, single, 3 children, 2 cars, Total Money: $999,999,999.00, Family Members: 4\n"
          ]
        }
      ]
    },
    {
      "cell_type": "markdown",
      "source": [
        "Create functions (decide whether it should be an instance method of one of the classes, or should be just defined in the program) to answer\n",
        "\n",
        "\n",
        "*   whether the person can buy the house,\n",
        "*   whether the person's family can live in that house (enough room),\n",
        "*   whether the house has enough space (garages) for the cars in the family\n",
        "\n",
        "(5 points)\n"
      ],
      "metadata": {
        "id": "w15CqLRRdr0M"
      }
    },
    {
      "cell_type": "code",
      "source": [
        "def is_affordable(person, house):\n",
        "    return person.total_money >= house.Price()\n",
        "\n",
        "def is_enough(person, house):\n",
        "    return house.rooms >= person.family_members\n",
        "\n",
        "def has_garage_capacity(person, house):\n",
        "    garage_capacity = 2 if house.garage else 0\n",
        "    return garage_capacity >= person.num_cars"
      ],
      "metadata": {
        "id": "12yG3hMkba83"
      },
      "execution_count": 50,
      "outputs": []
    },
    {
      "cell_type": "markdown",
      "source": [
        "Test the functions with the different House and Person instances!\n",
        "\n",
        "(1 point)"
      ],
      "metadata": {
        "id": "078CulRI3zeM"
      }
    },
    {
      "cell_type": "code",
      "source": [
        "print(\"Can afford:\", is_affordable(Jani, Luxurious_house))\n",
        "print(\"Can fit family:\", is_enough(Jani, Luxurious_house))\n",
        "print(\"Garage space enough:\", has_garage_capacity(Jani, Luxurious_house))"
      ],
      "metadata": {
        "id": "0LtcSg8VKqa5",
        "colab": {
          "base_uri": "https://localhost:8080/"
        },
        "outputId": "8a3ac288-bd9a-4c3a-f0ab-493e722d77cd"
      },
      "execution_count": 51,
      "outputs": [
        {
          "output_type": "stream",
          "name": "stdout",
          "text": [
            "Can afford: True\n",
            "Can fit family: True\n",
            "Garage space enough: True\n"
          ]
        }
      ]
    },
    {
      "cell_type": "code",
      "source": [
        "print(\"Can afford:\", is_affordable(Tomi, Abandoned_shack))\n",
        "print(\"Can fit family:\", is_enough(Tomi, Abandoned_shack))\n",
        "print(\"Garage space enough:\", has_garage_capacity(Tomi, Abandoned_shack))"
      ],
      "metadata": {
        "colab": {
          "base_uri": "https://localhost:8080/"
        },
        "id": "T9YFT5bdc_0s",
        "outputId": "4cdf7e22-99b8-4aba-e6d0-ed65411fb2a9"
      },
      "execution_count": 54,
      "outputs": [
        {
          "output_type": "stream",
          "name": "stdout",
          "text": [
            "Can afford: False\n",
            "Can fit family: True\n",
            "Garage space enough: True\n"
          ]
        }
      ]
    },
    {
      "cell_type": "markdown",
      "source": [
        "##3. task"
      ],
      "metadata": {
        "id": "HHFqhytgfX_b"
      }
    },
    {
      "cell_type": "markdown",
      "source": [
        "###A) (5 points)\n",
        " Create an Animal class and choose 3 animals that have some things in common (characteristics and behaviour)!\n",
        "\n",
        "Write the Parent class and the derived classes of the species!\n",
        "\n",
        "The Child classes should inherit some attributes and override some methods of the Parent class, but should also extend the state with own attributes in each subclass and extend the behaviour with own methods."
      ],
      "metadata": {
        "id": "gp_LabipdssB"
      }
    },
    {
      "cell_type": "code",
      "source": [
        "class Animal:\n",
        "    def __init__(self, name, age, color):\n",
        "        self.name = name\n",
        "        self.age = age\n",
        "        self.color = color\n",
        "\n",
        "    def comm(self):\n",
        "        return f\"{self.name} is making a sound\"\n",
        "\n",
        "    def play(self):\n",
        "        return f\"{self.name} is playing\"\n",
        "\n",
        "    def sleep(self):\n",
        "        return f\"{self.name} is sleeping\""
      ],
      "metadata": {
        "id": "sAdoQ5p8fQmv"
      },
      "execution_count": 57,
      "outputs": []
    },
    {
      "cell_type": "code",
      "source": [
        "class Dog(Animal):\n",
        "    def __init__(self, name, age, color, breed):\n",
        "        super().__init__(name, age, color)\n",
        "        self.breed = breed\n",
        "\n",
        "    def comm(self):\n",
        "        return f\"{self.name} is barking\"\n",
        "\n",
        "    def play(self):\n",
        "        return f\"{self.name} fetches the ball\""
      ],
      "metadata": {
        "id": "uaWqcsJZdmUP"
      },
      "execution_count": 59,
      "outputs": []
    },
    {
      "cell_type": "code",
      "source": [
        "Buksi = Dog(\"Buksi\", 1, \"brown\", \"Husky\")\n",
        "print(Buksi.comm())\n",
        "print(Buksi.play())\n",
        "print(Buksi.sleep())"
      ],
      "metadata": {
        "colab": {
          "base_uri": "https://localhost:8080/"
        },
        "id": "hihNcatSf6QO",
        "outputId": "087595aa-e749-4763-dd00-f1445f47ad17"
      },
      "execution_count": 66,
      "outputs": [
        {
          "output_type": "stream",
          "name": "stdout",
          "text": [
            "Buksi is barking\n",
            "Buksi fetches the ball\n",
            "Buksi is sleeping\n"
          ]
        }
      ]
    },
    {
      "cell_type": "code",
      "source": [
        "class Cat(Animal):\n",
        "    def __init__(self, name, age, color, toy):\n",
        "        super().__init__(name, age, color)\n",
        "        self.toy = toy\n",
        "\n",
        "    def comm(self):\n",
        "        return f\"{self.name} meows\"\n",
        "\n",
        "    def play(self):\n",
        "        return f\"{self.name} plays with {self.toy}\""
      ],
      "metadata": {
        "id": "QQiT5Q6QfCjZ"
      },
      "execution_count": 61,
      "outputs": []
    },
    {
      "cell_type": "code",
      "source": [
        "Cirmi = Cat(\"Cirmi\", 2, \"black and white\", \"ball\")\n",
        "print(Cirmi.comm())\n",
        "print(Cirmi.play())\n",
        "print(Cirmi.sleep())"
      ],
      "metadata": {
        "colab": {
          "base_uri": "https://localhost:8080/"
        },
        "id": "JJK8-j3Nf59v",
        "outputId": "29869870-e422-4d51-f58a-53fba4e200fa"
      },
      "execution_count": 65,
      "outputs": [
        {
          "output_type": "stream",
          "name": "stdout",
          "text": [
            "Cirmi meows\n",
            "Cirmi plays with ball\n",
            "Cirmi is sleeping\n"
          ]
        }
      ]
    },
    {
      "cell_type": "code",
      "source": [
        "class Pig(Animal):\n",
        "    def __init__(self, name, age, color, food):\n",
        "        super().__init__(name, age, color)\n",
        "        self.food = food\n",
        "\n",
        "    def comm(self):\n",
        "        return f\"{self.name} oinks\"\n",
        "\n",
        "    def play(self):\n",
        "        return f\"{self.name} runs around\"\n",
        "\n",
        "    def eat(self):\n",
        "        return f\"{self.name} eats {self.food}\""
      ],
      "metadata": {
        "id": "O9Lk1vl9gq5k"
      },
      "execution_count": 68,
      "outputs": []
    },
    {
      "cell_type": "code",
      "source": [
        "Fagyi = Pig(\"Fagyi\", 4, \"pink\", \"corn\")\n",
        "print(Fagyi.comm())\n",
        "print(Fagyi.play())\n",
        "print(Fagyi.eat())"
      ],
      "metadata": {
        "colab": {
          "base_uri": "https://localhost:8080/"
        },
        "id": "CCIK5YHQgqmF",
        "outputId": "1ac05200-6a46-40d0-c3f4-161d2959c6e9"
      },
      "execution_count": 69,
      "outputs": [
        {
          "output_type": "stream",
          "name": "stdout",
          "text": [
            "Fagyi oinks\n",
            "Fagyi runs around\n",
            "Fagyi eats corn\n"
          ]
        }
      ]
    },
    {
      "cell_type": "markdown",
      "source": [
        "###B) (6 points)\n",
        "\n",
        "Create classes and use inheritance to calculate the area of different shapes (specifically, circle and square, you can add triangle or anything else if you want).\n",
        "\n",
        "Requirements:\n",
        "\n",
        "\n",
        "1.\tCreate a base class called Shape that has a method named area().\n",
        "\n",
        "This method should not have any implementation\n",
        "2. Create at least two subclasses:\n",
        "\n",
        "Circle — which takes a radius as a parameter\n",
        "\n",
        "Square — which takes a side as a parameter\n",
        "\n",
        "write the area-calculating function for both (or for all)\n",
        "\n",
        "3. Create objects of both Circle and Square, and print their areas.\n",
        "\n",
        "Extra: Store these objects in a list and use a loop to print the area of each shape."
      ],
      "metadata": {
        "id": "GApQ5U0dH4lA"
      }
    },
    {
      "cell_type": "code",
      "source": [
        "import math\n",
        "\n",
        "class Shape:\n",
        "  def area(self):\n",
        "    pass"
      ],
      "metadata": {
        "id": "BOmBXb2k6nMq"
      },
      "execution_count": 95,
      "outputs": []
    },
    {
      "cell_type": "code",
      "source": [
        "class Circle(Shape):\n",
        "    def __init__(self, radius):\n",
        "        self.radius = radius\n",
        "\n",
        "    def area(self):\n",
        "        return math.pi * self.radius ** 2"
      ],
      "metadata": {
        "id": "AnK7-lvQiu47"
      },
      "execution_count": 96,
      "outputs": []
    },
    {
      "cell_type": "code",
      "source": [
        "class Square(Shape):\n",
        "    def __init__(self, side):\n",
        "        self.side = side\n",
        "\n",
        "    def area(self):\n",
        "        return self.side ** 2"
      ],
      "metadata": {
        "id": "hzX6ssitiwFj"
      },
      "execution_count": 101,
      "outputs": []
    },
    {
      "cell_type": "code",
      "source": [
        "shapes = [Circle(5), Square(4)]\n",
        "\n",
        "for shape in shapes:\n",
        "    print(f\"{shape.__class__.__name__} area: {shape.area():.2f}\")"
      ],
      "metadata": {
        "colab": {
          "base_uri": "https://localhost:8080/"
        },
        "id": "VZQqH8kpix2z",
        "outputId": "66714338-916b-4e88-c8a4-4e3b717d6b38"
      },
      "execution_count": 102,
      "outputs": [
        {
          "output_type": "stream",
          "name": "stdout",
          "text": [
            "Circle area: 78.54\n",
            "Square area: 16.00\n"
          ]
        }
      ]
    }
  ]
}